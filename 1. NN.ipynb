{
 "cells": [
  {
   "cell_type": "markdown",
   "id": "3354a7df",
   "metadata": {},
   "source": [
    "## Neuron"
   ]
  },
  {
   "cell_type": "code",
   "execution_count": 33,
   "id": "2726e9a9",
   "metadata": {},
   "outputs": [
    {
     "name": "stdout",
     "output_type": "stream",
     "text": [
      "[0.59865848 0.15601864 0.15599452]\n",
      "1\n"
     ]
    }
   ],
   "source": [
    "import numpy as np\n",
    "\n",
    "class Neuron(object):\n",
    "    def __init__(self,num_inputs,activation_fn):\n",
    "        self.W=np.random.rand(num_inputs) # weight\n",
    "        self.b=np.random.rand(1) # bias\n",
    "        self.activation_fn=activation_fn\n",
    "        \n",
    "    def forward(self,x):\n",
    "        z=np.dot(x,self.W) + self.b\n",
    "        return self.activation_fn(z)\n",
    "\n",
    "np.random.seed(42)\n",
    "\n",
    "x=np.random.rand(3).reshape(1,3)\n",
    "\n",
    "step_fn=lambda y: 0 if y <=0 else 1 # step function\n",
    "\n",
    "perceptron=Neuron(num_inputs=x.size,activation_fn=step_fn)\n",
    "print(perceptron.W)\n",
    "out=perceptron.forward(x)\n",
    "print(out)"
   ]
  },
  {
   "cell_type": "code",
   "execution_count": 34,
   "id": "c5111905",
   "metadata": {
    "scrolled": true
   },
   "outputs": [
    {
     "name": "stdout",
     "output_type": "stream",
     "text": [
      "[[-0.25091976  0.90142861]]\n",
      "[[0.46398788 0.19731697]]\n",
      "[[0.9323663  0.         0.39706569]]\n",
      "[[0.22460853 0.         1.14403416]]\n",
      "[[0.9323663  0.         0.39706569]\n",
      " [0.22460853 0.         1.14403416]]\n"
     ]
    }
   ],
   "source": [
    "import numpy as np\n",
    "\n",
    "class FullyConnectLayer(object):\n",
    "    def __init__(self,num_inputs,layer_size,activation_fn):\n",
    "        self.W=np.random.standard_normal((num_inputs,layer_size)) # weight\n",
    "        self.b=np.random.rand(layer_size) # bias\n",
    "        self.size=layer_size\n",
    "        self.activation_fn=activation_fn\n",
    "        \n",
    "    def forward(self,x):\n",
    "        z=np.dot(x,self.W) + self.b\n",
    "        return self.activation_fn(z)\n",
    "np.random.seed(42)\n",
    "x1=np.random.uniform(-1,1,2).reshape(1,2)\n",
    "print(x1)\n",
    "x2=np.random.uniform(-1,1,2).reshape(1,2)\n",
    "print(x2)\n",
    "\n",
    "relu_fn=lambda y: np.maximum(y,0) #relu functioin\n",
    "layer=FullyConnectLayer(2,3,relu_fn)\n",
    "out1=layer.forward(x1)\n",
    "print(out1)\n",
    "out2=layer.forward(x2)\n",
    "print(out2)\n",
    "\n",
    "x12=np.concatenate((x1,x2))\n",
    "out12=layer.forward(x12)\n",
    "print(out12)"
   ]
  },
  {
   "cell_type": "markdown",
   "id": "eaf77a94",
   "metadata": {},
   "source": [
    "## Using MNIST"
   ]
  },
  {
   "cell_type": "code",
   "execution_count": 35,
   "id": "836d197b",
   "metadata": {},
   "outputs": [],
   "source": [
    "import tensorflow as tf\n",
    "np.random.seed(42)\n",
    "data_train, data_test = tf.keras.datasets.mnist.load_data()"
   ]
  },
  {
   "cell_type": "code",
   "execution_count": 36,
   "id": "b12ecf13",
   "metadata": {},
   "outputs": [
    {
     "name": "stdout",
     "output_type": "stream",
     "text": [
      "train (60000, 28, 28)\n",
      "test (10000, 28, 28)\n",
      "after reshape\n",
      "train (60000, 784)\n",
      "test (10000, 784)\n",
      "[0. 0. 0. 0. 0. 1. 0. 0. 0. 0.]\n"
     ]
    }
   ],
   "source": [
    "(x_train,y_train)=data_train\n",
    "(x_test,y_test)=data_test\n",
    "num_classes=10\n",
    "\n",
    "print('train',x_train.shape)\n",
    "print('test',x_test.shape)\n",
    "x_train,x_test=x_train.reshape(-1,28*28),x_test.reshape(-1,28*28)\n",
    "print('after reshape')\n",
    "print('train',x_train.shape)\n",
    "print('test',x_test.shape)\n",
    "y_train=np.eye(num_classes)[y_train]\n",
    "print(y_train[0])"
   ]
  },
  {
   "cell_type": "code",
   "execution_count": 37,
   "id": "cd227432",
   "metadata": {},
   "outputs": [],
   "source": [
    "def sigmoid(x):\n",
    "    return 1/(1+np.exp(-x))\n",
    "\n",
    "class SimpleNN(object):\n",
    "    \n",
    "    def __init__(self,num_inputs,num_outputs,hidden_layers_size=(64,32)):\n",
    "        super().__init__()\n",
    "        sizes=[num_inputs,*hidden_layers_size,num_outputs] # NeuralNet\n",
    "        self.layers=[FullyConnectLayer(sizes[i],sizes[i+1],sigmoid) for i in range(len(sizes)-1)]\n",
    "        \n",
    "    def forward(self,x):\n",
    "        for layer in self.layers:\n",
    "            x=layer.forward(x)\n",
    "        return x\n",
    "    \n",
    "    def predict(self,x):\n",
    "        estimations=self.forward(x)\n",
    "        best_class=np.argmax(estimations)\n",
    "        return best_class\n",
    "    \n",
    "    def evaluate_accuracy(self,x_val,y_val): # valid test\n",
    "        num_corrects=0\n",
    "        for i in range(len(x_val)):\n",
    "            if self.predict(x_val[i])==y_val[i]:\n",
    "                num_corrects+=1\n",
    "            return num_corrects/len(x_val)"
   ]
  },
  {
   "cell_type": "code",
   "execution_count": 42,
   "id": "c2b8d27e",
   "metadata": {},
   "outputs": [],
   "source": [
    "mnist_classifier=SimpleNN(x_train.shape[1],num_classes,[64,32])"
   ]
  },
  {
   "cell_type": "code",
   "execution_count": 44,
   "id": "e8db5f25",
   "metadata": {},
   "outputs": [
    {
     "name": "stdout",
     "output_type": "stream",
     "text": [
      "accuracy 0.01\n"
     ]
    },
    {
     "name": "stderr",
     "output_type": "stream",
     "text": [
      "c:\\users\\drepi\\anaconda3\\envs\\rhs\\lib\\site-packages\\ipykernel_launcher.py:2: RuntimeWarning: overflow encountered in exp\n",
      "  \n"
     ]
    }
   ],
   "source": [
    "accuracy=mnist_classifier.evaluate_accuracy(x_test,y_test)\n",
    "print('accuracy',accuracy*100)"
   ]
  },
  {
   "cell_type": "code",
   "execution_count": null,
   "id": "cf4ec747",
   "metadata": {},
   "outputs": [],
   "source": []
  }
 ],
 "metadata": {
  "kernelspec": {
   "display_name": "Python 3 (ipykernel)",
   "language": "python",
   "name": "python3"
  },
  "language_info": {
   "codemirror_mode": {
    "name": "ipython",
    "version": 3
   },
   "file_extension": ".py",
   "mimetype": "text/x-python",
   "name": "python",
   "nbconvert_exporter": "python",
   "pygments_lexer": "ipython3",
   "version": "3.7.10"
  }
 },
 "nbformat": 4,
 "nbformat_minor": 5
}
