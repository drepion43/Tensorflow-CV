{
 "cells": [
  {
   "cell_type": "markdown",
   "id": "ce34dd12",
   "metadata": {},
   "source": [
    "## Lenet-5"
   ]
  },
  {
   "cell_type": "code",
   "execution_count": 67,
   "id": "de7c611a",
   "metadata": {},
   "outputs": [],
   "source": [
    "import tensorflow as tf\n",
    "from tensorflow.keras.models import Model,Sequential\n",
    "from tensorflow.keras.layers import Conv2D,MaxPooling2D,Flatten,Dense\n",
    "import numpy as np"
   ]
  },
  {
   "cell_type": "code",
   "execution_count": 70,
   "id": "5aade0d3",
   "metadata": {},
   "outputs": [
    {
     "name": "stdout",
     "output_type": "stream",
     "text": [
      "before (60000, 28, 28)\n",
      "after (60000, 28, 28, 1)\n"
     ]
    }
   ],
   "source": [
    "img_height = 28\n",
    "img_width = 28\n",
    "img_channels=1\n",
    "input_shape = (img_height, img_width, img_channels)\n",
    "\n",
    "(x_train, y_train), (x_test, y_test) = tf.keras.datasets.mnist.load_data()\n",
    "num_classes = 10\n",
    "print('before',x_train.shape)\n",
    "x_train = x_train[:, :, :, np.newaxis] # 차원추가\n",
    "x_test = x_test[:, :, :, np.newaxis]\n",
    "print('after',x_train.shape)\n",
    "\n",
    "x_train,x_test=x_train/255.0,x_test/255.0\n"
   ]
  },
  {
   "cell_type": "code",
   "execution_count": 71,
   "id": "d08e6f5d",
   "metadata": {},
   "outputs": [],
   "source": [
    "model=Sequential()\n",
    "model.add(Conv2D(6,kernel_size=(5,5),padding='same',activation='relu',input_shape=(img_height,img_width,img_channels)))\n",
    "# model.add(Conv2D(6,kernel_size=(5,5),padding='same',activation='relu',input_shape=(28,28,1)))\n",
    "model.add(MaxPooling2D(pool_size=(2,2)))\n",
    "model.add(Conv2D(16,kernel_size=(5,5),activation='relu'))\n",
    "model.add(MaxPooling2D(pool_size=(2,2)))\n",
    "\n",
    "model.add(Flatten())\n",
    "model.add(Dense(120,activation='relu'))\n",
    "model.add(Dense(84,activation='relu'))\n",
    "model.add(Dense(num_classes,activation='softmax'))\n",
    "# model.add(Dense(10,activation='softmax'))"
   ]
  },
  {
   "cell_type": "markdown",
   "id": "47a355a5",
   "metadata": {},
   "source": [
    "### Class"
   ]
  },
  {
   "cell_type": "code",
   "execution_count": 87,
   "id": "803e26b8",
   "metadata": {},
   "outputs": [],
   "source": [
    "from tensorflow.keras.models import Model,Sequential\n",
    "from tensorflow.keras.layers import Conv2D,MaxPooling2D,Flatten,Dense,Dropout"
   ]
  },
  {
   "cell_type": "code",
   "execution_count": 73,
   "id": "583633fa",
   "metadata": {},
   "outputs": [],
   "source": [
    "class LeNet(Model):\n",
    "    def __init__(self,num_classes):\n",
    "        super(LeNet5,self).__init__()\n",
    "        self.conv1=Conv2D(6,kernel_size=(5,5),padding='same',activation='relu')\n",
    "        self.conv2=Conv2D(16,kernel_size=(5,5),activation='relu')\n",
    "        self.max_pool=MaxPooling2D(pool_size=(2,2))\n",
    "        self.flatten=Flatten()\n",
    "        self.dense1=Dense(120,activation='relu')\n",
    "        self.dense2=Dense(84,activation='relu')\n",
    "        self.dense3=Dense(num_classes,activation='softmax')\n",
    "    def call(self,x):\n",
    "        x=self.max_pool(self.conv1(x))\n",
    "        x=self.max_pool(self.conv1(x))\n",
    "        x=self.flatten(x)\n",
    "        x=self.dense3(self.dense2(self.dense1(x)))\n",
    "        return x"
   ]
  },
  {
   "cell_type": "code",
   "execution_count": 74,
   "id": "2201ff87",
   "metadata": {},
   "outputs": [],
   "source": [
    "model.compile(optimizer='sgd',loss='sparse_categorical_crossentropy',metrics=['accuracy'])"
   ]
  },
  {
   "cell_type": "code",
   "execution_count": 75,
   "id": "639d9622",
   "metadata": {},
   "outputs": [
    {
     "name": "stdout",
     "output_type": "stream",
     "text": [
      "Model: \"sequential_12\"\n",
      "_________________________________________________________________\n",
      "Layer (type)                 Output Shape              Param #   \n",
      "=================================================================\n",
      "conv2d_18 (Conv2D)           (None, 28, 28, 6)         156       \n",
      "_________________________________________________________________\n",
      "max_pooling2d_16 (MaxPooling (None, 14, 14, 6)         0         \n",
      "_________________________________________________________________\n",
      "conv2d_19 (Conv2D)           (None, 10, 10, 16)        2416      \n",
      "_________________________________________________________________\n",
      "max_pooling2d_17 (MaxPooling (None, 5, 5, 16)          0         \n",
      "_________________________________________________________________\n",
      "flatten_8 (Flatten)          (None, 400)               0         \n",
      "_________________________________________________________________\n",
      "dense_24 (Dense)             (None, 120)               48120     \n",
      "_________________________________________________________________\n",
      "dense_25 (Dense)             (None, 84)                10164     \n",
      "_________________________________________________________________\n",
      "dense_26 (Dense)             (None, 10)                850       \n",
      "=================================================================\n",
      "Total params: 61,706\n",
      "Trainable params: 61,706\n",
      "Non-trainable params: 0\n",
      "_________________________________________________________________\n"
     ]
    }
   ],
   "source": [
    "model.summary()"
   ]
  },
  {
   "cell_type": "code",
   "execution_count": 76,
   "id": "08a0181a",
   "metadata": {},
   "outputs": [
    {
     "name": "stdout",
     "output_type": "stream",
     "text": [
      "Epoch 1/80\n",
      "1875/1875 [==============================] - 12s 4ms/step - loss: 0.4699 - accuracy: 0.8599 - val_loss: 0.1670 - val_accuracy: 0.9468\n",
      "Epoch 2/80\n",
      "1875/1875 [==============================] - 7s 4ms/step - loss: 0.1246 - accuracy: 0.9616 - val_loss: 0.0808 - val_accuracy: 0.9740\n",
      "Epoch 3/80\n",
      "1875/1875 [==============================] - 7s 4ms/step - loss: 0.0903 - accuracy: 0.9722 - val_loss: 0.0769 - val_accuracy: 0.9743\n",
      "Epoch 4/80\n",
      "1875/1875 [==============================] - 7s 4ms/step - loss: 0.0743 - accuracy: 0.9770 - val_loss: 0.0665 - val_accuracy: 0.9793\n",
      "Epoch 5/80\n",
      "1875/1875 [==============================] - 7s 4ms/step - loss: 0.0626 - accuracy: 0.9801 - val_loss: 0.0691 - val_accuracy: 0.9768\n",
      "Epoch 6/80\n",
      "1875/1875 [==============================] - 7s 4ms/step - loss: 0.0553 - accuracy: 0.9825 - val_loss: 0.0697 - val_accuracy: 0.9774\n",
      "Epoch 7/80\n",
      "1875/1875 [==============================] - 7s 4ms/step - loss: 0.0504 - accuracy: 0.9847 - val_loss: 0.0691 - val_accuracy: 0.9783\n"
     ]
    },
    {
     "data": {
      "text/plain": [
       "<tensorflow.python.keras.callbacks.History at 0x18391850f10>"
      ]
     },
     "execution_count": 76,
     "metadata": {},
     "output_type": "execute_result"
    }
   ],
   "source": [
    "callbacks=[tf.keras.callbacks.EarlyStopping(patience=3,monitor='val_loss'),\n",
    "          tf.keras.callbacks.TensorBoard(log_dir='./logs',histogram_freq=1)]\n",
    "model.fit(x_train,y_train,batch_size=32,epochs=80,validation_data=(x_test,y_test),callbacks=callbacks)"
   ]
  },
  {
   "cell_type": "code",
   "execution_count": 80,
   "id": "579ec97b",
   "metadata": {},
   "outputs": [
    {
     "data": {
      "text/html": [
       "\n",
       "      <iframe id=\"tensorboard-frame-271fad9885c8ebdc\" width=\"100%\" height=\"800\" frameborder=\"0\">\n",
       "      </iframe>\n",
       "      <script>\n",
       "        (function() {\n",
       "          const frame = document.getElementById(\"tensorboard-frame-271fad9885c8ebdc\");\n",
       "          const url = new URL(\"/\", window.location);\n",
       "          const port = 6006;\n",
       "          if (port) {\n",
       "            url.port = port;\n",
       "          }\n",
       "          frame.src = url;\n",
       "        })();\n",
       "      </script>\n",
       "    "
      ],
      "text/plain": [
       "<IPython.core.display.HTML object>"
      ]
     },
     "metadata": {},
     "output_type": "display_data"
    }
   ],
   "source": [
    "%tensorboard --logdir ./logs"
   ]
  },
  {
   "cell_type": "markdown",
   "id": "735fab70",
   "metadata": {},
   "source": [
    "## regularization"
   ]
  },
  {
   "cell_type": "code",
   "execution_count": 81,
   "id": "a6a8d8b6",
   "metadata": {},
   "outputs": [],
   "source": [
    "l1_reg=tf.keras.regularizers.l1(0.01)\n",
    "model=Sequential()\n",
    "model.add(Conv2D(6,kernel_size=(5,5),padding='same',activation='relu',input_shape=(img_height,img_width,img_channels),\n",
    "                kernel_regularizer=l1_reg))\n",
    "model.add(MaxPooling2D(pool_size=(2,2)))\n",
    "model.add(Conv2D(16,kernel_size=(5,5),activation='relu'))\n",
    "model.add(MaxPooling2D(pool_size=(2,2)))\n",
    "\n",
    "model.add(Flatten())\n",
    "model.add(Dense(120,activation='relu'))\n",
    "model.add(Dense(84,activation='relu'))\n",
    "model.add(Dense(num_classes,activation='softmax'))\n"
   ]
  },
  {
   "cell_type": "code",
   "execution_count": 83,
   "id": "0bf169a9",
   "metadata": {},
   "outputs": [
    {
     "name": "stdout",
     "output_type": "stream",
     "text": [
      "Model: \"sequential_13\"\n",
      "_________________________________________________________________\n",
      "Layer (type)                 Output Shape              Param #   \n",
      "=================================================================\n",
      "conv2d_20 (Conv2D)           (None, 28, 28, 6)         156       \n",
      "_________________________________________________________________\n",
      "max_pooling2d_18 (MaxPooling (None, 14, 14, 6)         0         \n",
      "_________________________________________________________________\n",
      "conv2d_21 (Conv2D)           (None, 10, 10, 16)        2416      \n",
      "_________________________________________________________________\n",
      "max_pooling2d_19 (MaxPooling (None, 5, 5, 16)          0         \n",
      "_________________________________________________________________\n",
      "flatten_9 (Flatten)          (None, 400)               0         \n",
      "_________________________________________________________________\n",
      "dense_27 (Dense)             (None, 120)               48120     \n",
      "_________________________________________________________________\n",
      "dense_28 (Dense)             (None, 84)                10164     \n",
      "_________________________________________________________________\n",
      "dense_29 (Dense)             (None, 10)                850       \n",
      "=================================================================\n",
      "Total params: 61,706\n",
      "Trainable params: 61,706\n",
      "Non-trainable params: 0\n",
      "_________________________________________________________________\n"
     ]
    }
   ],
   "source": [
    "model.compile(optimizer='nadam',loss='sparse_categorical_crossentropy',metrics=['accuracy'])\n",
    "model.summary()"
   ]
  },
  {
   "cell_type": "code",
   "execution_count": 84,
   "id": "57ed5ee3",
   "metadata": {},
   "outputs": [
    {
     "name": "stdout",
     "output_type": "stream",
     "text": [
      "Epoch 1/80\n",
      "1875/1875 [==============================] - 19s 10ms/step - loss: 0.2463 - accuracy: 0.9425 - val_loss: 0.1102 - val_accuracy: 0.9754\n",
      "Epoch 2/80\n",
      "1875/1875 [==============================] - 18s 9ms/step - loss: 0.0970 - accuracy: 0.9781 - val_loss: 0.0830 - val_accuracy: 0.9802\n",
      "Epoch 3/80\n",
      "1875/1875 [==============================] - 18s 9ms/step - loss: 0.0730 - accuracy: 0.9829 - val_loss: 0.0652 - val_accuracy: 0.9852\n",
      "Epoch 4/80\n",
      "1875/1875 [==============================] - 18s 9ms/step - loss: 0.0597 - accuracy: 0.9862 - val_loss: 0.0554 - val_accuracy: 0.9865\n",
      "Epoch 5/80\n",
      "1875/1875 [==============================] - 18s 9ms/step - loss: 0.0508 - accuracy: 0.9883 - val_loss: 0.0619 - val_accuracy: 0.9840\n",
      "Epoch 6/80\n",
      "1875/1875 [==============================] - 18s 10ms/step - loss: 0.0453 - accuracy: 0.9895 - val_loss: 0.0428 - val_accuracy: 0.9896\n",
      "Epoch 7/80\n",
      "1875/1875 [==============================] - 18s 9ms/step - loss: 0.0397 - accuracy: 0.9912 - val_loss: 0.0470 - val_accuracy: 0.9888\n",
      "Epoch 8/80\n",
      "1875/1875 [==============================] - 18s 9ms/step - loss: 0.0355 - accuracy: 0.9924 - val_loss: 0.0512 - val_accuracy: 0.9871\n",
      "Epoch 9/80\n",
      "1875/1875 [==============================] - 18s 9ms/step - loss: 0.0342 - accuracy: 0.9922 - val_loss: 0.0417 - val_accuracy: 0.9895\n",
      "Epoch 10/80\n",
      "1875/1875 [==============================] - 18s 9ms/step - loss: 0.0314 - accuracy: 0.9930 - val_loss: 0.0457 - val_accuracy: 0.9888\n",
      "Epoch 11/80\n",
      "1875/1875 [==============================] - 18s 9ms/step - loss: 0.0285 - accuracy: 0.9943 - val_loss: 0.0532 - val_accuracy: 0.9860\n",
      "Epoch 12/80\n",
      "1875/1875 [==============================] - 18s 9ms/step - loss: 0.0272 - accuracy: 0.9947 - val_loss: 0.0457 - val_accuracy: 0.9894\n"
     ]
    },
    {
     "data": {
      "text/plain": [
       "<tensorflow.python.keras.callbacks.History at 0x184048677c0>"
      ]
     },
     "execution_count": 84,
     "metadata": {},
     "output_type": "execute_result"
    }
   ],
   "source": [
    "callbacks=[tf.keras.callbacks.EarlyStopping(patience=3,monitor='val_loss'),\n",
    "          tf.keras.callbacks.TensorBoard(log_dir='./logs_03',histogram_freq=1)]\n",
    "model.fit(x_train,y_train,batch_size=32,epochs=80,validation_data=(x_test,y_test),callbacks=callbacks)"
   ]
  },
  {
   "cell_type": "code",
   "execution_count": 85,
   "id": "63ecb24f",
   "metadata": {},
   "outputs": [
    {
     "data": {
      "text/html": [
       "\n",
       "      <iframe id=\"tensorboard-frame-54a756c6ecebd6a\" width=\"100%\" height=\"800\" frameborder=\"0\">\n",
       "      </iframe>\n",
       "      <script>\n",
       "        (function() {\n",
       "          const frame = document.getElementById(\"tensorboard-frame-54a756c6ecebd6a\");\n",
       "          const url = new URL(\"/\", window.location);\n",
       "          const port = 6006;\n",
       "          if (port) {\n",
       "            url.port = port;\n",
       "          }\n",
       "          frame.src = url;\n",
       "        })();\n",
       "      </script>\n",
       "    "
      ],
      "text/plain": [
       "<IPython.core.display.HTML object>"
      ]
     },
     "metadata": {},
     "output_type": "display_data"
    }
   ],
   "source": [
    "%tensorboard --logdir ./logs_03"
   ]
  },
  {
   "cell_type": "markdown",
   "id": "203465bd",
   "metadata": {},
   "source": [
    "## Dropout"
   ]
  },
  {
   "cell_type": "code",
   "execution_count": 88,
   "id": "f8d859b5",
   "metadata": {},
   "outputs": [],
   "source": [
    "l1_reg=tf.keras.regularizers.l1(0.01)\n",
    "model=Sequential()\n",
    "model.add(Conv2D(6,kernel_size=(5,5),padding='same',activation='relu',input_shape=(img_height,img_width,img_channels),\n",
    "                kernel_regularizer=l1_reg))\n",
    "model.add(MaxPooling2D(pool_size=(2,2)))\n",
    "model.add(Conv2D(16,kernel_size=(5,5),activation='relu'))\n",
    "model.add(MaxPooling2D(pool_size=(2,2)))\n",
    "\n",
    "model.add(Flatten())\n",
    "model.add(Dense(120,activation='relu'))\n",
    "model.add(Dropout(0.2))\n",
    "model.add(Dense(84,activation='relu'))\n",
    "model.add(Dropout(0.3))\n",
    "model.add(Dense(num_classes,activation='softmax'))"
   ]
  },
  {
   "cell_type": "code",
   "execution_count": 89,
   "id": "db4a13a3",
   "metadata": {},
   "outputs": [
    {
     "name": "stdout",
     "output_type": "stream",
     "text": [
      "Model: \"sequential_15\"\n",
      "_________________________________________________________________\n",
      "Layer (type)                 Output Shape              Param #   \n",
      "=================================================================\n",
      "conv2d_24 (Conv2D)           (None, 28, 28, 6)         156       \n",
      "_________________________________________________________________\n",
      "max_pooling2d_22 (MaxPooling (None, 14, 14, 6)         0         \n",
      "_________________________________________________________________\n",
      "conv2d_25 (Conv2D)           (None, 10, 10, 16)        2416      \n",
      "_________________________________________________________________\n",
      "max_pooling2d_23 (MaxPooling (None, 5, 5, 16)          0         \n",
      "_________________________________________________________________\n",
      "flatten_11 (Flatten)         (None, 400)               0         \n",
      "_________________________________________________________________\n",
      "dense_31 (Dense)             (None, 120)               48120     \n",
      "_________________________________________________________________\n",
      "dropout (Dropout)            (None, 120)               0         \n",
      "_________________________________________________________________\n",
      "dense_32 (Dense)             (None, 84)                10164     \n",
      "_________________________________________________________________\n",
      "dropout_1 (Dropout)          (None, 84)                0         \n",
      "_________________________________________________________________\n",
      "dense_33 (Dense)             (None, 10)                850       \n",
      "=================================================================\n",
      "Total params: 61,706\n",
      "Trainable params: 61,706\n",
      "Non-trainable params: 0\n",
      "_________________________________________________________________\n"
     ]
    }
   ],
   "source": [
    "model.compile(optimizer='nadam',loss='sparse_categorical_crossentropy',metrics=['accuracy'])\n",
    "model.summary()"
   ]
  },
  {
   "cell_type": "code",
   "execution_count": 90,
   "id": "74fcfc23",
   "metadata": {},
   "outputs": [
    {
     "name": "stdout",
     "output_type": "stream",
     "text": [
      "Epoch 1/80\n",
      "1875/1875 [==============================] - 19s 10ms/step - loss: 0.3218 - accuracy: 0.9247 - val_loss: 0.1085 - val_accuracy: 0.9784\n",
      "Epoch 2/80\n",
      "1875/1875 [==============================] - 18s 10ms/step - loss: 0.1256 - accuracy: 0.9718 - val_loss: 0.0840 - val_accuracy: 0.9813\n",
      "Epoch 3/80\n",
      "1875/1875 [==============================] - 18s 10ms/step - loss: 0.0976 - accuracy: 0.9780 - val_loss: 0.0642 - val_accuracy: 0.9860\n",
      "Epoch 4/80\n",
      "1875/1875 [==============================] - 19s 10ms/step - loss: 0.0802 - accuracy: 0.9823 - val_loss: 0.0598 - val_accuracy: 0.9865\n",
      "Epoch 5/80\n",
      "1875/1875 [==============================] - 18s 10ms/step - loss: 0.0707 - accuracy: 0.9841 - val_loss: 0.0550 - val_accuracy: 0.9871\n",
      "Epoch 6/80\n",
      "1875/1875 [==============================] - 18s 10ms/step - loss: 0.0646 - accuracy: 0.9850 - val_loss: 0.0538 - val_accuracy: 0.9867\n",
      "Epoch 7/80\n",
      "1875/1875 [==============================] - 18s 10ms/step - loss: 0.0587 - accuracy: 0.9867 - val_loss: 0.0603 - val_accuracy: 0.9860\n",
      "Epoch 8/80\n",
      "1875/1875 [==============================] - 18s 10ms/step - loss: 0.0550 - accuracy: 0.9877 - val_loss: 0.0572 - val_accuracy: 0.9853\n",
      "Epoch 9/80\n",
      "1875/1875 [==============================] - 19s 10ms/step - loss: 0.0497 - accuracy: 0.9888 - val_loss: 0.0492 - val_accuracy: 0.9883\n",
      "Epoch 10/80\n",
      "1875/1875 [==============================] - 19s 10ms/step - loss: 0.0479 - accuracy: 0.9890 - val_loss: 0.0546 - val_accuracy: 0.9868\n",
      "Epoch 11/80\n",
      "1875/1875 [==============================] - 18s 10ms/step - loss: 0.0435 - accuracy: 0.9903 - val_loss: 0.0441 - val_accuracy: 0.9891\n",
      "Epoch 12/80\n",
      "1875/1875 [==============================] - 18s 10ms/step - loss: 0.0411 - accuracy: 0.9905 - val_loss: 0.0459 - val_accuracy: 0.9892\n",
      "Epoch 13/80\n",
      "1875/1875 [==============================] - 18s 10ms/step - loss: 0.0379 - accuracy: 0.9911 - val_loss: 0.0429 - val_accuracy: 0.9901\n",
      "Epoch 14/80\n",
      "1875/1875 [==============================] - 18s 10ms/step - loss: 0.0368 - accuracy: 0.9919 - val_loss: 0.0462 - val_accuracy: 0.9894\n",
      "Epoch 15/80\n",
      "1875/1875 [==============================] - 18s 10ms/step - loss: 0.0365 - accuracy: 0.9923 - val_loss: 0.0490 - val_accuracy: 0.9880\n",
      "Epoch 16/80\n",
      "1875/1875 [==============================] - 18s 10ms/step - loss: 0.0354 - accuracy: 0.9925 - val_loss: 0.0487 - val_accuracy: 0.9898\n"
     ]
    },
    {
     "data": {
      "text/plain": [
       "<tensorflow.python.keras.callbacks.History at 0x1850d940eb0>"
      ]
     },
     "execution_count": 90,
     "metadata": {},
     "output_type": "execute_result"
    }
   ],
   "source": [
    "callbacks=[tf.keras.callbacks.EarlyStopping(patience=3,monitor='val_loss'),\n",
    "          tf.keras.callbacks.TensorBoard(log_dir='./logs_03_02',histogram_freq=1)]\n",
    "model.fit(x_train,y_train,batch_size=32,epochs=80,validation_data=(x_test,y_test),callbacks=callbacks)"
   ]
  },
  {
   "cell_type": "code",
   "execution_count": 91,
   "id": "83c5becf",
   "metadata": {},
   "outputs": [
    {
     "data": {
      "text/html": [
       "\n",
       "      <iframe id=\"tensorboard-frame-319114a839e70848\" width=\"100%\" height=\"800\" frameborder=\"0\">\n",
       "      </iframe>\n",
       "      <script>\n",
       "        (function() {\n",
       "          const frame = document.getElementById(\"tensorboard-frame-319114a839e70848\");\n",
       "          const url = new URL(\"/\", window.location);\n",
       "          const port = 6006;\n",
       "          if (port) {\n",
       "            url.port = port;\n",
       "          }\n",
       "          frame.src = url;\n",
       "        })();\n",
       "      </script>\n",
       "    "
      ],
      "text/plain": [
       "<IPython.core.display.HTML object>"
      ]
     },
     "metadata": {},
     "output_type": "display_data"
    }
   ],
   "source": [
    "%tensorboard --logdir ./logs_03_02"
   ]
  },
  {
   "cell_type": "code",
   "execution_count": null,
   "id": "def9760c",
   "metadata": {},
   "outputs": [],
   "source": []
  }
 ],
 "metadata": {
  "kernelspec": {
   "display_name": "Python 3 (ipykernel)",
   "language": "python",
   "name": "python3"
  },
  "language_info": {
   "codemirror_mode": {
    "name": "ipython",
    "version": 3
   },
   "file_extension": ".py",
   "mimetype": "text/x-python",
   "name": "python",
   "nbconvert_exporter": "python",
   "pygments_lexer": "ipython3",
   "version": "3.9.2"
  }
 },
 "nbformat": 4,
 "nbformat_minor": 5
}
