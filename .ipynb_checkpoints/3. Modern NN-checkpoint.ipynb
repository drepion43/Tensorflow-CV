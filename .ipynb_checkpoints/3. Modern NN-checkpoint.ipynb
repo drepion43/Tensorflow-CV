{
 "cells": [
  {
   "cell_type": "markdown",
   "id": "994fc7c2",
   "metadata": {},
   "source": [
    "## Lenet-5"
   ]
  },
  {
   "cell_type": "code",
   "execution_count": 67,
   "id": "de7c611a",
   "metadata": {},
   "outputs": [],
   "source": [
    "import tensorflow as tf\n",
    "from tensorflow.keras.models import Model,Sequential\n",
    "from tensorflow.keras.layers import Conv2D,MaxPooling2D,Flatten,Dense\n",
    "import numpy as np"
   ]
  },
  {
   "cell_type": "code",
   "execution_count": 70,
   "id": "92281c04",
   "metadata": {},
   "outputs": [
    {
     "name": "stdout",
     "output_type": "stream",
     "text": [
      "before (60000, 28, 28)\n",
      "after (60000, 28, 28, 1)\n"
     ]
    }
   ],
   "source": [
    "img_height = 28\n",
    "img_width = 28\n",
    "img_channels=1\n",
    "input_shape = (img_height, img_width, img_channels)\n",
    "\n",
    "(x_train, y_train), (x_test, y_test) = tf.keras.datasets.mnist.load_data()\n",
    "num_classes = 10\n",
    "print('before',x_train.shape)\n",
    "x_train = x_train[:, :, :, np.newaxis] # 차원추가\n",
    "x_test = x_test[:, :, :, np.newaxis]\n",
    "print('after',x_train.shape)\n",
    "\n",
    "x_train,x_test=x_train/255.0,x_test/255.0\n"
   ]
  },
  {
   "cell_type": "code",
   "execution_count": 71,
   "id": "5d078b92",
   "metadata": {},
   "outputs": [],
   "source": [
    "model=Sequential()\n",
    "model.add(Conv2D(6,kernel_size=(5,5),padding='same',activation='relu',input_shape=(img_height,img_width,img_channels)))\n",
    "# model.add(Conv2D(6,kernel_size=(5,5),padding='same',activation='relu',input_shape=(28,28,1)))\n",
    "model.add(MaxPooling2D(pool_size=(2,2)))\n",
    "model.add(Conv2D(16,kernel_size=(5,5),activation='relu'))\n",
    "model.add(MaxPooling2D(pool_size=(2,2)))\n",
    "\n",
    "model.add(Flatten())\n",
    "model.add(Dense(120,activation='relu'))\n",
    "model.add(Dense(84,activation='relu'))\n",
    "model.add(Dense(num_classes,activation='softmax'))\n",
    "# model.add(Dense(10,activation='softmax'))"
   ]
  },
  {
   "cell_type": "markdown",
   "id": "5093759e",
   "metadata": {},
   "source": [
    "### Class"
   ]
  },
  {
   "cell_type": "code",
   "execution_count": 72,
   "id": "6b1c6fe8",
   "metadata": {},
   "outputs": [],
   "source": [
    "from tensorflow.keras.models import Model,Sequential\n",
    "from tensorflow.keras.layers import Conv2D,MaxPooling2D,Flatten,Dense"
   ]
  },
  {
   "cell_type": "code",
   "execution_count": 73,
   "id": "f6beaeb5",
   "metadata": {},
   "outputs": [],
   "source": [
    "class LeNet(Model):\n",
    "    def __init__(self,num_classes):\n",
    "        super(LeNet5,self).__init__()\n",
    "        self.conv1=Conv2D(6,kernel_size=(5,5),padding='same',activation='relu')\n",
    "        self.conv2=Conv2D(16,kernel_size=(5,5),activation='relu')\n",
    "        self.max_pool=MaxPooling2D(pool_size=(2,2))\n",
    "        self.flatten=Flatten()\n",
    "        self.dense1=Dense(120,activation='relu')\n",
    "        self.dense2=Dense(84,activation='relu')\n",
    "        self.dense3=Dense(num_classes,activation='softmax')\n",
    "    def call(self,x):\n",
    "        x=self.max_pool(self.conv1(x))\n",
    "        x=self.max_pool(self.conv1(x))\n",
    "        x=self.flatten(x)\n",
    "        x=self.dense3(self.dense2(self.dense1(x)))\n",
    "        return x"
   ]
  },
  {
   "cell_type": "code",
   "execution_count": 74,
   "id": "70d9c97e",
   "metadata": {},
   "outputs": [],
   "source": [
    "model.compile(optimizer='sgd',loss='sparse_categorical_crossentropy',metrics=['accuracy'])"
   ]
  },
  {
   "cell_type": "code",
   "execution_count": 75,
   "id": "cf9b5ef6",
   "metadata": {},
   "outputs": [
    {
     "name": "stdout",
     "output_type": "stream",
     "text": [
      "Model: \"sequential_12\"\n",
      "_________________________________________________________________\n",
      "Layer (type)                 Output Shape              Param #   \n",
      "=================================================================\n",
      "conv2d_18 (Conv2D)           (None, 28, 28, 6)         156       \n",
      "_________________________________________________________________\n",
      "max_pooling2d_16 (MaxPooling (None, 14, 14, 6)         0         \n",
      "_________________________________________________________________\n",
      "conv2d_19 (Conv2D)           (None, 10, 10, 16)        2416      \n",
      "_________________________________________________________________\n",
      "max_pooling2d_17 (MaxPooling (None, 5, 5, 16)          0         \n",
      "_________________________________________________________________\n",
      "flatten_8 (Flatten)          (None, 400)               0         \n",
      "_________________________________________________________________\n",
      "dense_24 (Dense)             (None, 120)               48120     \n",
      "_________________________________________________________________\n",
      "dense_25 (Dense)             (None, 84)                10164     \n",
      "_________________________________________________________________\n",
      "dense_26 (Dense)             (None, 10)                850       \n",
      "=================================================================\n",
      "Total params: 61,706\n",
      "Trainable params: 61,706\n",
      "Non-trainable params: 0\n",
      "_________________________________________________________________\n"
     ]
    }
   ],
   "source": [
    "model.summary()"
   ]
  },
  {
   "cell_type": "code",
   "execution_count": 76,
   "id": "165cb921",
   "metadata": {},
   "outputs": [
    {
     "name": "stdout",
     "output_type": "stream",
     "text": [
      "Epoch 1/80\n",
      "1875/1875 [==============================] - 12s 4ms/step - loss: 0.4699 - accuracy: 0.8599 - val_loss: 0.1670 - val_accuracy: 0.9468\n",
      "Epoch 2/80\n",
      "1875/1875 [==============================] - 7s 4ms/step - loss: 0.1246 - accuracy: 0.9616 - val_loss: 0.0808 - val_accuracy: 0.9740\n",
      "Epoch 3/80\n",
      "1875/1875 [==============================] - 7s 4ms/step - loss: 0.0903 - accuracy: 0.9722 - val_loss: 0.0769 - val_accuracy: 0.9743\n",
      "Epoch 4/80\n",
      "1875/1875 [==============================] - 7s 4ms/step - loss: 0.0743 - accuracy: 0.9770 - val_loss: 0.0665 - val_accuracy: 0.9793\n",
      "Epoch 5/80\n",
      "1875/1875 [==============================] - 7s 4ms/step - loss: 0.0626 - accuracy: 0.9801 - val_loss: 0.0691 - val_accuracy: 0.9768\n",
      "Epoch 6/80\n",
      "1875/1875 [==============================] - 7s 4ms/step - loss: 0.0553 - accuracy: 0.9825 - val_loss: 0.0697 - val_accuracy: 0.9774\n",
      "Epoch 7/80\n",
      "1875/1875 [==============================] - 7s 4ms/step - loss: 0.0504 - accuracy: 0.9847 - val_loss: 0.0691 - val_accuracy: 0.9783\n"
     ]
    },
    {
     "data": {
      "text/plain": [
       "<tensorflow.python.keras.callbacks.History at 0x18391850f10>"
      ]
     },
     "execution_count": 76,
     "metadata": {},
     "output_type": "execute_result"
    }
   ],
   "source": [
    "callbacks=[tf.keras.callbacks.EarlyStopping(patience=3,monitor='val_loss'),\n",
    "          tf.keras.callbacks.TensorBoard(log_dir='./logs',histogram_freq=1)]\n",
    "model.fit(x_train,y_train,batch_size=32,epochs=80,validation_data=(x_test,y_test),callbacks=callbacks)"
   ]
  },
  {
   "cell_type": "code",
   "execution_count": 80,
   "id": "8a86ec42",
   "metadata": {},
   "outputs": [
    {
     "data": {
      "text/html": [
       "\n",
       "      <iframe id=\"tensorboard-frame-271fad9885c8ebdc\" width=\"100%\" height=\"800\" frameborder=\"0\">\n",
       "      </iframe>\n",
       "      <script>\n",
       "        (function() {\n",
       "          const frame = document.getElementById(\"tensorboard-frame-271fad9885c8ebdc\");\n",
       "          const url = new URL(\"/\", window.location);\n",
       "          const port = 6006;\n",
       "          if (port) {\n",
       "            url.port = port;\n",
       "          }\n",
       "          frame.src = url;\n",
       "        })();\n",
       "      </script>\n",
       "    "
      ],
      "text/plain": [
       "<IPython.core.display.HTML object>"
      ]
     },
     "metadata": {},
     "output_type": "display_data"
    }
   ],
   "source": [
    "%tensorboard --logdir ./logs"
   ]
  },
  {
   "cell_type": "markdown",
   "id": "1b98c1c4",
   "metadata": {},
   "source": [
    "## regularization"
   ]
  },
  {
   "cell_type": "code",
   "execution_count": 81,
   "id": "e715cdb2",
   "metadata": {},
   "outputs": [],
   "source": [
    "l1_reg=tf.keras.regularizers.l1(0.01)\n",
    "model=Sequential()\n",
    "model.add(Conv2D(6,kernel_size=(5,5),padding='same',activation='relu',input_shape=(img_height,img_width,img_channels),\n",
    "                kernel_regularizer=l1_reg))\n",
    "model.add(MaxPooling2D(pool_size=(2,2)))\n",
    "model.add(Conv2D(16,kernel_size=(5,5),activation='relu'))\n",
    "model.add(MaxPooling2D(pool_size=(2,2)))\n",
    "\n",
    "model.add(Flatten())\n",
    "model.add(Dense(120,activation='relu'))\n",
    "model.add(Dense(84,activation='relu'))\n",
    "model.add(Dense(num_classes,activation='softmax'))\n"
   ]
  },
  {
   "cell_type": "code",
   "execution_count": 83,
   "id": "0cae768a",
   "metadata": {},
   "outputs": [
    {
     "name": "stdout",
     "output_type": "stream",
     "text": [
      "Model: \"sequential_13\"\n",
      "_________________________________________________________________\n",
      "Layer (type)                 Output Shape              Param #   \n",
      "=================================================================\n",
      "conv2d_20 (Conv2D)           (None, 28, 28, 6)         156       \n",
      "_________________________________________________________________\n",
      "max_pooling2d_18 (MaxPooling (None, 14, 14, 6)         0         \n",
      "_________________________________________________________________\n",
      "conv2d_21 (Conv2D)           (None, 10, 10, 16)        2416      \n",
      "_________________________________________________________________\n",
      "max_pooling2d_19 (MaxPooling (None, 5, 5, 16)          0         \n",
      "_________________________________________________________________\n",
      "flatten_9 (Flatten)          (None, 400)               0         \n",
      "_________________________________________________________________\n",
      "dense_27 (Dense)             (None, 120)               48120     \n",
      "_________________________________________________________________\n",
      "dense_28 (Dense)             (None, 84)                10164     \n",
      "_________________________________________________________________\n",
      "dense_29 (Dense)             (None, 10)                850       \n",
      "=================================================================\n",
      "Total params: 61,706\n",
      "Trainable params: 61,706\n",
      "Non-trainable params: 0\n",
      "_________________________________________________________________\n"
     ]
    }
   ],
   "source": [
    "model.compile(optimizer='nadam',loss='sparse_categorical_crossentropy',metrics=['accuracy'])\n",
    "model.summary()"
   ]
  },
  {
   "cell_type": "code",
   "execution_count": null,
   "id": "9623905e",
   "metadata": {},
   "outputs": [
    {
     "name": "stdout",
     "output_type": "stream",
     "text": [
      "Epoch 1/80\n",
      "1875/1875 [==============================] - 19s 10ms/step - loss: 0.2463 - accuracy: 0.9425 - val_loss: 0.1102 - val_accuracy: 0.9754\n",
      "Epoch 2/80\n",
      "1875/1875 [==============================] - 18s 9ms/step - loss: 0.0970 - accuracy: 0.9781 - val_loss: 0.0830 - val_accuracy: 0.9802\n",
      "Epoch 3/80\n",
      " 337/1875 [====>.........................] - ETA: 13s - loss: 0.0774 - accuracy: 0.9814"
     ]
    }
   ],
   "source": [
    "callbacks=[tf.keras.callbacks.EarlyStopping(patience=3,monitor='val_loss'),\n",
    "          tf.keras.callbacks.TensorBoard(log_dir='./logs_03',histogram_freq=1)]\n",
    "model.fit(x_train,y_train,batch_size=32,epochs=80,validation_data=(x_test,y_test),callbacks=callbacks)"
   ]
  },
  {
   "cell_type": "markdown",
   "id": "cfebe942",
   "metadata": {},
   "source": [
    "## Dropout"
   ]
  },
  {
   "cell_type": "code",
   "execution_count": null,
   "id": "d08ad24f",
   "metadata": {},
   "outputs": [],
   "source": [
    "l1_reg=tf.keras.regularizers.l1(0.01)\n",
    "model=Sequential()\n",
    "model.add(Conv2D(6,kernel_size=(5,5),padding='same',activation='relu',input_shape=(img_height,img_width,img_channels),\n",
    "                kernel_regularizer=l1_reg))\n",
    "model.add(MaxPooling2D(pool_size=(2,2)))\n",
    "model.add(Conv2D(16,kernel_size=(5,5),activation='relu'))\n",
    "model.add(MaxPooling2D(pool_size=(2,2)))\n",
    "\n",
    "model.add(Flatten())\n",
    "model.add(Dense(120,activation='relu'))\n",
    "model.add(Dropout(0.2))\n",
    "model.add(Dense(84,activation='relu'))\n",
    "model.add(Dropout(0.3))\n",
    "model.add(Dense(num_classes,activation='softmax'))\n"
   ]
  }
 ],
 "metadata": {
  "kernelspec": {
   "display_name": "Python 3 (ipykernel)",
   "language": "python",
   "name": "python3"
  },
  "language_info": {
   "codemirror_mode": {
    "name": "ipython",
    "version": 3
   },
   "file_extension": ".py",
   "mimetype": "text/x-python",
   "name": "python",
   "nbconvert_exporter": "python",
   "pygments_lexer": "ipython3",
   "version": "3.9.2"
  }
 },
 "nbformat": 4,
 "nbformat_minor": 5
}
