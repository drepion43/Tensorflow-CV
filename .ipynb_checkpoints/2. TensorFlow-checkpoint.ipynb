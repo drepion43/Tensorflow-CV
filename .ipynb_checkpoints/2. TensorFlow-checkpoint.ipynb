{
 "cells": [
  {
   "cell_type": "markdown",
   "id": "e452ce18",
   "metadata": {},
   "source": [
    "# Simple Model"
   ]
  },
  {
   "cell_type": "code",
   "execution_count": 20,
   "id": "666af891",
   "metadata": {},
   "outputs": [
    {
     "name": "stdout",
     "output_type": "stream",
     "text": [
      "(60000, 28, 28)\n"
     ]
    }
   ],
   "source": [
    "import tensorflow as tf\n",
    "num_classes=10\n",
    "\n",
    "img_rows,img_cols=28,28\n",
    "num_channels=1\n",
    "input_shape=(img_rows,img_cols,num_channels)\n",
    "\n",
    "(x_train,y_train),(x_test,y_test)=tf.keras.datasets.mnist.load_data()\n",
    "x_train,x_test=x_train/255.0,x_test/255.0\n",
    "print(x_train.shape)"
   ]
  },
  {
   "cell_type": "markdown",
   "id": "7a4630a2",
   "metadata": {},
   "source": [
    "### Sequentional API"
   ]
  },
  {
   "cell_type": "code",
   "execution_count": 23,
   "id": "9eda2ce1",
   "metadata": {},
   "outputs": [],
   "source": [
    "model=tf.keras.models.Sequential()\n",
    "model.add(tf.keras.layers.Flatten())\n",
    "model.add(tf.keras.layers.Dense(128,activation='relu'))\n",
    "model.add(tf.keras.layers.Dense(num_classes,activation='softmax'))"
   ]
  },
  {
   "cell_type": "markdown",
   "id": "4014bd18",
   "metadata": {},
   "source": [
    "### Function API"
   ]
  },
  {
   "cell_type": "code",
   "execution_count": 24,
   "id": "444709e8",
   "metadata": {},
   "outputs": [],
   "source": [
    "model_input=tf.keras.layers.Input(shape=input_shape)\n",
    "output=tf.keras.layers.Flatten()(model_input)\n",
    "output=tf.keras.layers.Dense(128,activation='relu')(output)\n",
    "output=tf.keras.layers.Dense(num_classes,activation='softmax')(output)\n",
    "model=tf.keras.Model(model_input,output)"
   ]
  },
  {
   "cell_type": "code",
   "execution_count": 25,
   "id": "e27941a9",
   "metadata": {},
   "outputs": [
    {
     "name": "stdout",
     "output_type": "stream",
     "text": [
      "Epoch 1/5\n",
      "1875/1875 [==============================] - 4s 2ms/step - loss: 0.6339 - accuracy: 0.8435 - val_loss: 0.3486 - val_accuracy: 0.9046\n",
      "Epoch 2/5\n",
      "1875/1875 [==============================] - 4s 2ms/step - loss: 0.3318 - accuracy: 0.9075 - val_loss: 0.2864 - val_accuracy: 0.9189\n",
      "Epoch 3/5\n",
      "1875/1875 [==============================] - 4s 2ms/step - loss: 0.2833 - accuracy: 0.9201 - val_loss: 0.2548 - val_accuracy: 0.9265\n",
      "Epoch 4/5\n",
      "1875/1875 [==============================] - 4s 2ms/step - loss: 0.2534 - accuracy: 0.9285 - val_loss: 0.2320 - val_accuracy: 0.9328\n",
      "Epoch 5/5\n",
      "1875/1875 [==============================] - 4s 2ms/step - loss: 0.2312 - accuracy: 0.9343 - val_loss: 0.2185 - val_accuracy: 0.9373\n"
     ]
    },
    {
     "data": {
      "text/plain": [
       "<tensorflow.python.keras.callbacks.History at 0x1cf31602bb0>"
      ]
     },
     "execution_count": 25,
     "metadata": {},
     "output_type": "execute_result"
    }
   ],
   "source": [
    "model.compile(optimizer='sgd',loss='sparse_categorical_crossentropy',metrics=['accuracy'])\n",
    "model.fit(x_train,y_train,epochs=5,verbose=1,validation_data=(x_test,y_test))"
   ]
  },
  {
   "cell_type": "code",
   "execution_count": 28,
   "id": "fcf3fb13",
   "metadata": {},
   "outputs": [
    {
     "name": "stdout",
     "output_type": "stream",
     "text": [
      "Model: \"model\"\n",
      "_________________________________________________________________\n",
      "Layer (type)                 Output Shape              Param #   \n",
      "=================================================================\n",
      "input_3 (InputLayer)         [(None, 28, 28, 1)]       0         \n",
      "_________________________________________________________________\n",
      "flatten_7 (Flatten)          (None, 784)               0         \n",
      "_________________________________________________________________\n",
      "dense_8 (Dense)              (None, 128)               100480    \n",
      "_________________________________________________________________\n",
      "dense_9 (Dense)              (None, 10)                1290      \n",
      "=================================================================\n",
      "Total params: 101,770\n",
      "Trainable params: 101,770\n",
      "Non-trainable params: 0\n",
      "_________________________________________________________________\n"
     ]
    }
   ],
   "source": [
    "model.summary()"
   ]
  },
  {
   "cell_type": "markdown",
   "id": "1e7f203a",
   "metadata": {},
   "source": [
    "# Auto Graph (tf.function)"
   ]
  },
  {
   "cell_type": "code",
   "execution_count": 29,
   "id": "c9032c59",
   "metadata": {},
   "outputs": [
    {
     "name": "stdout",
     "output_type": "stream",
     "text": [
      "tf.Tensor([1 2 4], shape=(3,), dtype=int32)\n"
     ]
    }
   ],
   "source": [
    "import tensorflow as tf\n",
    "a=tf.constant([1,2,3])\n",
    "b=tf.constant([0,0,1])\n",
    "c=tf.add(a,b)\n",
    "print(c)"
   ]
  },
  {
   "cell_type": "code",
   "execution_count": 30,
   "id": "4c046f3d",
   "metadata": {},
   "outputs": [],
   "source": [
    "@tf.function\n",
    "def compute(a,b,c):\n",
    "    d=a*b+c\n",
    "    e=a*b*c\n",
    "    return d,e"
   ]
  },
  {
   "cell_type": "code",
   "execution_count": 31,
   "id": "7dbb4997",
   "metadata": {},
   "outputs": [
    {
     "name": "stdout",
     "output_type": "stream",
     "text": [
      "tf.Tensor(2.0, shape=(), dtype=float32)\n",
      "X 20.0 dx tf.Tensor(1.0, shape=(), dtype=float32)\n",
      "X 19.0 dx tf.Tensor(1.0, shape=(), dtype=float32)\n",
      "X 18.0 dx tf.Tensor(-0.0, shape=(), dtype=float32)\n",
      "X 18.0 dx tf.Tensor(-0.0, shape=(), dtype=float32)\n",
      "X 18.0 dx tf.Tensor(-0.0, shape=(), dtype=float32)\n",
      "X 18.0 dx tf.Tensor(-0.0, shape=(), dtype=float32)\n",
      "X 18.0 dx tf.Tensor(-0.0, shape=(), dtype=float32)\n"
     ]
    }
   ],
   "source": [
    "A,B=tf.constant(3.0),tf.constant(6.0)\n",
    "X=tf.Variable(20.0)\n",
    "loss=tf.math.abs(A*B-X)\n",
    "print(loss)\n",
    "\n",
    "def train_step():\n",
    "    with tf.GradientTape() as tape:\n",
    "        loss=tf.math.abs(A*B-X)\n",
    "    dx=tape.gradient(loss,X)\n",
    "    print('X',X.numpy(),'dx',dx)\n",
    "    X.assign(X-dx)\n",
    "\n",
    "for i in range(7):\n",
    "    train_step()"
   ]
  },
  {
   "cell_type": "markdown",
   "id": "b40f5cc9",
   "metadata": {},
   "source": [
    "### Tensorboard"
   ]
  },
  {
   "cell_type": "code",
   "execution_count": 32,
   "id": "7b1722d6",
   "metadata": {},
   "outputs": [
    {
     "name": "stdout",
     "output_type": "stream",
     "text": [
      "Epoch 1/5\n",
      "1875/1875 [==============================] - 5s 3ms/step - loss: 0.2137 - accuracy: 0.9402 - val_loss: 0.2000 - val_accuracy: 0.9419\n",
      "Epoch 2/5\n",
      "1875/1875 [==============================] - 5s 3ms/step - loss: 0.1988 - accuracy: 0.9440 - val_loss: 0.1880 - val_accuracy: 0.9446\n",
      "Epoch 3/5\n",
      "1875/1875 [==============================] - 5s 2ms/step - loss: 0.1857 - accuracy: 0.9477 - val_loss: 0.1765 - val_accuracy: 0.9497\n",
      "Epoch 4/5\n",
      "1875/1875 [==============================] - 5s 3ms/step - loss: 0.1743 - accuracy: 0.9510 - val_loss: 0.1673 - val_accuracy: 0.9520\n",
      "Epoch 5/5\n",
      "1875/1875 [==============================] - 5s 3ms/step - loss: 0.1643 - accuracy: 0.9539 - val_loss: 0.1587 - val_accuracy: 0.9557\n"
     ]
    },
    {
     "data": {
      "text/plain": [
       "<tensorflow.python.keras.callbacks.History at 0x1cf23c1db20>"
      ]
     },
     "execution_count": 32,
     "metadata": {},
     "output_type": "execute_result"
    }
   ],
   "source": [
    "callbacks=[tf.keras.callbacks.TensorBoard('./logs_keras')]\n",
    "model.fit(x_train,y_train,epochs=5,verbose=1,validation_data=(x_test,y_test),callbacks=callbacks)"
   ]
  },
  {
   "cell_type": "code",
   "execution_count": 35,
   "id": "fbb13360",
   "metadata": {},
   "outputs": [],
   "source": [
    "writer=tf.summary.create_file_writer('./model_logs')\n",
    "with writer.as_default():\n",
    "    tf.summary.scalar('custom_log',10,step=3)"
   ]
  },
  {
   "cell_type": "code",
   "execution_count": 36,
   "id": "d48b8764",
   "metadata": {},
   "outputs": [
    {
     "data": {
      "text/plain": [
       "<tf.Tensor: shape=(), dtype=bool, numpy=False>"
      ]
     },
     "execution_count": 36,
     "metadata": {},
     "output_type": "execute_result"
    }
   ],
   "source": [
    "accuracy=tf.keras.metrics.Accuracy()\n",
    "ground_truth,predictions=[1,0,1],[1,0,0]\n",
    "accuracy.update_state(ground_truth,predictions)\n",
    "tf.summary.scalar('accuracy',accuracy.result(),step=4)"
   ]
  },
  {
   "cell_type": "code",
   "execution_count": null,
   "id": "34b8ab1d",
   "metadata": {},
   "outputs": [],
   "source": []
  }
 ],
 "metadata": {
  "kernelspec": {
   "display_name": "Python 3 (ipykernel)",
   "language": "python",
   "name": "python3"
  },
  "language_info": {
   "codemirror_mode": {
    "name": "ipython",
    "version": 3
   },
   "file_extension": ".py",
   "mimetype": "text/x-python",
   "name": "python",
   "nbconvert_exporter": "python",
   "pygments_lexer": "ipython3",
   "version": "3.9.2"
  }
 },
 "nbformat": 4,
 "nbformat_minor": 5
}
